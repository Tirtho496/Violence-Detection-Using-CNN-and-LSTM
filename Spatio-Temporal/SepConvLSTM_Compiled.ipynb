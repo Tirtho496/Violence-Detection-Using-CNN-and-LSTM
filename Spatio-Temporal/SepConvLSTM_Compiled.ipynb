{
 "cells": [
  {
   "cell_type": "markdown",
   "id": "3c25cdbf",
   "metadata": {},
   "source": [
    "## **<font style=\"color:rgb(134,19,348)\">Implementing the ConvLSTM Approach</font>**\n",
    "\n",
    "In this step, we will implement the first approach by using a combination of ConvLSTM cells. A ConvLSTM cell is a variant of an LSTM network that contains convolutions operations in the network. it is an LSTM with convolution embedded in the architecture, which makes it capable of identifying spatial features of the data while keeping into account the temporal relation. \n",
    "\n",
    "<center>\n",
    "<img src=\"https://drive.google.com/uc?export=view&id=1KHN_JFWJoJi1xQj_bRdxy2QgevGOH1qP\" width= 500px>\n",
    "</center>\n",
    "\n",
    "\n",
    "For video classification, this approach effectively captures the spatial relation in the individual frames and the temporal relation across the different frames. As a result of this convolution structure, the ConvLSTM is capable of taking in 3-dimensional input `(width, height, num_of_channels)` whereas a simple LSTM only takes in 1-dimensional input hence an LSTM is incompatible for modeling Spatio-temporal data on its own.\n",
    "\n",
    "You can read the paper [**Convolutional LSTM Network: A Machine Learning Approach for Precipitation Nowcasting**](https://arxiv.org/abs/1506.04214v1) by **Xingjian Shi** (NIPS 2015), to learn more about this architecture.\n"
   ]
  },
  {
   "cell_type": "code",
   "execution_count": 1,
   "id": "8d45bc02",
   "metadata": {},
   "outputs": [],
   "source": [
    "import cv2\n",
    "import os\n",
    "import numpy as np\n",
    "import keras\n",
    "from tensorflow.keras.utils import Sequence\n",
    "import matplotlib.pyplot as plt\n",
    "import tensorflow as tf\n",
    "from random import shuffle\n",
    "from tensorflow.keras.applications import VGG19\n",
    "from tensorflow.keras import backend as K\n",
    "from tensorflow.keras.models import Model, Sequential\n",
    "from tensorflow.keras.layers import Input\n",
    "from tensorflow.keras.layers import LSTM\n",
    "from tensorflow.keras.layers import Dense, Activation,Flatten\n",
    "from keras.layers import LeakyReLU\n",
    "import keras_tuner\n",
    "import sys\n",
    "import h5py\n",
    "import glob"
   ]
  },
  {
   "cell_type": "code",
   "execution_count": 2,
   "id": "c10ad8ae",
   "metadata": {},
   "outputs": [
    {
     "name": "stdout",
     "output_type": "stream",
     "text": [
      "1 Physical GPUs, 1 Logical GPUs\n"
     ]
    }
   ],
   "source": [
    "gpus = tf.config.experimental.list_physical_devices('GPU')\n",
    "if gpus:\n",
    "    #Restrict Tensorflow to only allocate 6gb of memory on the first GPU\n",
    "   try:\n",
    "        tf.config.experimental.set_virtual_device_configuration(gpus[0],\n",
    "       [tf.config.experimental.VirtualDeviceConfiguration(memory_limit=8192)])\n",
    "        logical_gpus = tf.config.experimental.list_logical_devices('GPU')\n",
    "        print(len(gpus), \"Physical GPUs,\", len(logical_gpus), \"Logical GPUs\")\n",
    "   except RuntimeError as e:\n",
    "       #virtual devices must be set before GPUs have been initialized\n",
    "        print(e)"
   ]
  },
  {
   "cell_type": "code",
   "execution_count": 3,
   "id": "d318f866",
   "metadata": {},
   "outputs": [],
   "source": [
    "from keras_video import VideoFrameGenerator"
   ]
  },
  {
   "cell_type": "code",
   "execution_count": 4,
   "id": "f6d16cd3",
   "metadata": {},
   "outputs": [],
   "source": [
    "IMAGE_HEIGHT, IMAGE_WIDTH = 144,144"
   ]
  },
  {
   "cell_type": "code",
   "execution_count": 5,
   "id": "0fbd8b57",
   "metadata": {},
   "outputs": [
    {
     "name": "stdout",
     "output_type": "stream",
     "text": [
      "['NonViolence', 'Violence']\n",
      "class NonViolence, validation count: 100, test count: 40, train count: 360\n",
      "class Violence, validation count: 100, test count: 40, train count: 360\n",
      "Total data: 2 classes for 720 files for train\n"
     ]
    }
   ],
   "source": [
    "classes = [i.split(os.path.sep)[4] for i in glob.glob('D:\\\\Thesis Works\\\\Datasets\\\\HockeyFights\\\\*')]\n",
    "print(classes)\n",
    "classes.sort()\n",
    "# some global params\n",
    "SIZE = (IMAGE_HEIGHT,IMAGE_WIDTH)\n",
    "CHANNELS = 3\n",
    "NBFRAME = 25\n",
    "BS = 8\n",
    "# pattern to get videos and classes\n",
    "glob_pattern='D:\\\\Thesis Works\\\\Datasets\\\\HockeyFights\\\\{classname}\\\\*'\n",
    "# for data augmentation\n",
    "data_aug = keras.preprocessing.image.ImageDataGenerator(\n",
    "    zoom_range=.1,\n",
    "    horizontal_flip=True,\n",
    "    rotation_range=8,\n",
    "    width_shift_range=.2,\n",
    "    height_shift_range=.2)\n",
    "# Create video frame generator\n",
    "train = VideoFrameGenerator(\n",
    "    classes=classes, \n",
    "    glob_pattern=glob_pattern,\n",
    "    nb_frames=NBFRAME,\n",
    "    split_val=0.20,\n",
    "    split_test=0.1,\n",
    "    shuffle=True,\n",
    "    batch_size=BS,\n",
    "    target_shape=SIZE,\n",
    "    nb_channel=CHANNELS,\n",
    "    transformation=None,\n",
    "    use_frame_cache=True)"
   ]
  },
  {
   "cell_type": "code",
   "execution_count": 6,
   "id": "6009a608",
   "metadata": {},
   "outputs": [
    {
     "name": "stdout",
     "output_type": "stream",
     "text": [
      "Total data: 2 classes for 200 files for validation\n"
     ]
    }
   ],
   "source": [
    "valid = train.get_validation_generator()"
   ]
  },
  {
   "cell_type": "code",
   "execution_count": 7,
   "id": "0ad3d406",
   "metadata": {},
   "outputs": [
    {
     "name": "stdout",
     "output_type": "stream",
     "text": [
      "Total data: 2 classes for 80 files for test\n"
     ]
    }
   ],
   "source": [
    "test = train.get_test_generator()"
   ]
  },
  {
   "cell_type": "code",
   "execution_count": 8,
   "id": "5a73038c",
   "metadata": {},
   "outputs": [],
   "source": [
    "from keras.layers import Conv2D, BatchNormalization, \\\n",
    "    MaxPooling2D, GlobalMaxPool2D,GlobalAveragePooling2D, AveragePooling2D, Conv3D, LSTM, Bidirectional, \\\n",
    "    DepthwiseConv2D,SeparableConv2D, GRU\n",
    "\n",
    "\n",
    "from keras.layers import TimeDistributed, GRU, Dense, Dropout\n",
    "def main_model():\n",
    "    momentum = 0.9\n",
    "    model = keras.Sequential()\n",
    "\n",
    "\n",
    "    \n",
    "    model.add(SeparableConv2D(32, (3,3),input_shape=(IMAGE_WIDTH, IMAGE_HEIGHT, 3), padding='same', activation='relu'))\n",
    "    model.add(BatchNormalization(momentum=momentum))\n",
    "    model.add(MaxPooling2D(padding=\"same\"))\n",
    "    \n",
    "    model.add(SeparableConv2D(64, (3,3), padding='same', activation='relu'))\n",
    "    model.add(BatchNormalization(momentum=momentum))\n",
    "    model.add(MaxPooling2D(padding=\"same\"))\n",
    "    \n",
    "              \n",
    "    model.add(SeparableConv2D(128, (5,5), padding='same', activation=\"relu\"))\n",
    "    model.add(BatchNormalization(momentum=momentum))\n",
    "    model.add(MaxPooling2D(padding='same'))\n",
    "    \n",
    "    model.add(SeparableConv2D(512, (5,5), padding='same', activation=\"relu\"))\n",
    "    model.add(BatchNormalization(momentum=momentum))\n",
    "    model.add(MaxPooling2D(padding='same'))\n",
    "    \n",
    "    model.add(SeparableConv2D(1024, (3,3), padding='same', activation='relu'))\n",
    "    model.add(BatchNormalization(momentum=momentum))\n",
    "    model.add(MaxPooling2D(padding=\"same\"))\n",
    "  \n",
    "    \n",
    "    model.add(GlobalMaxPool2D())\n",
    "    \n",
    "    model1 = keras.Sequential()\n",
    "    \n",
    "    model1.add(TimeDistributed(model, input_shape=(25,IMAGE_WIDTH, IMAGE_HEIGHT,3)))\n",
    "\n",
    "    model1.add(Bidirectional(LSTM(512,return_sequences=True)))\n",
    "    model1.add(Bidirectional(LSTM(128,return_sequences=True)))\n",
    "    model1.add(Bidirectional(LSTM(64)))\n",
    "    \n",
    "    \n",
    "    model1.add(Dense(256,activation=\"relu\"))\n",
    "    \n",
    "    \n",
    "    \n",
    "    \n",
    "    model1.add(Dense(2, activation='softmax'))\n",
    "    return model1"
   ]
  },
  {
   "cell_type": "code",
   "execution_count": 9,
   "id": "c46d4b0a",
   "metadata": {},
   "outputs": [],
   "source": [
    "\n",
    "\n",
    "model = main_model()\n",
    "optimizer = tf.optimizers.Adam(0.0001)\n",
    "model.compile(\n",
    "    optimizer,\n",
    "    'categorical_crossentropy',\n",
    "    metrics=['accuracy']\n",
    ")\n"
   ]
  },
  {
   "cell_type": "code",
   "execution_count": 10,
   "id": "9c3638f2",
   "metadata": {},
   "outputs": [
    {
     "name": "stdout",
     "output_type": "stream",
     "text": [
      "Model: \"sequential_1\"\n",
      "_________________________________________________________________\n",
      " Layer (type)                Output Shape              Param #   \n",
      "=================================================================\n",
      " time_distributed (TimeDistr  (None, 25, 1024)         618683    \n",
      " ibuted)                                                         \n",
      "                                                                 \n",
      " bidirectional (Bidirectiona  (None, 25, 1024)         6295552   \n",
      " l)                                                              \n",
      "                                                                 \n",
      " bidirectional_1 (Bidirectio  (None, 25, 256)          1180672   \n",
      " nal)                                                            \n",
      "                                                                 \n",
      " bidirectional_2 (Bidirectio  (None, 128)              164352    \n",
      " nal)                                                            \n",
      "                                                                 \n",
      " dense (Dense)               (None, 256)               33024     \n",
      "                                                                 \n",
      " dense_1 (Dense)             (None, 2)                 514       \n",
      "                                                                 \n",
      "=================================================================\n",
      "Total params: 8,292,797\n",
      "Trainable params: 8,289,277\n",
      "Non-trainable params: 3,520\n",
      "_________________________________________________________________\n"
     ]
    }
   ],
   "source": [
    "model.summary()"
   ]
  },
  {
   "cell_type": "code",
   "execution_count": 11,
   "id": "461d8b84",
   "metadata": {},
   "outputs": [
    {
     "name": "stdout",
     "output_type": "stream",
     "text": [
      "Epoch 1/60\n",
      "90/90 [==============================] - 45s 378ms/step - loss: 0.3494 - accuracy: 0.8444 - val_loss: 0.2827 - val_accuracy: 0.9000 - lr: 1.0000e-04\n",
      "Epoch 2/60\n",
      "90/90 [==============================] - 25s 281ms/step - loss: 0.2162 - accuracy: 0.9278 - val_loss: 0.1589 - val_accuracy: 0.9500 - lr: 1.0000e-04\n",
      "Epoch 3/60\n",
      "90/90 [==============================] - 25s 281ms/step - loss: 0.1654 - accuracy: 0.9458 - val_loss: 0.1521 - val_accuracy: 0.9550 - lr: 1.0000e-04\n",
      "Epoch 4/60\n",
      "90/90 [==============================] - 25s 277ms/step - loss: 0.1422 - accuracy: 0.9472 - val_loss: 0.1187 - val_accuracy: 0.9550 - lr: 1.0000e-04\n",
      "Epoch 5/60\n",
      "90/90 [==============================] - 25s 276ms/step - loss: 0.1555 - accuracy: 0.9472 - val_loss: 0.1752 - val_accuracy: 0.9400 - lr: 1.0000e-04\n",
      "Epoch 6/60\n",
      "90/90 [==============================] - 25s 277ms/step - loss: 0.1217 - accuracy: 0.9500 - val_loss: 0.1430 - val_accuracy: 0.9500 - lr: 1.0000e-04\n",
      "Epoch 7/60\n",
      "90/90 [==============================] - 25s 282ms/step - loss: 0.1237 - accuracy: 0.9472 - val_loss: 0.1075 - val_accuracy: 0.9650 - lr: 1.0000e-04\n",
      "Epoch 8/60\n",
      "90/90 [==============================] - 25s 279ms/step - loss: 0.0610 - accuracy: 0.9778 - val_loss: 0.1903 - val_accuracy: 0.9250 - lr: 1.0000e-04\n",
      "Epoch 9/60\n",
      "90/90 [==============================] - 25s 278ms/step - loss: 0.0788 - accuracy: 0.9764 - val_loss: 0.0752 - val_accuracy: 0.9700 - lr: 1.0000e-04\n",
      "Epoch 10/60\n",
      "90/90 [==============================] - 26s 284ms/step - loss: 0.0517 - accuracy: 0.9861 - val_loss: 0.2222 - val_accuracy: 0.9350 - lr: 1.0000e-04\n",
      "Epoch 11/60\n",
      "90/90 [==============================] - 25s 281ms/step - loss: 0.0867 - accuracy: 0.9708 - val_loss: 0.1202 - val_accuracy: 0.9650 - lr: 1.0000e-04\n",
      "Epoch 12/60\n",
      "90/90 [==============================] - 26s 286ms/step - loss: 0.0592 - accuracy: 0.9819 - val_loss: 0.1161 - val_accuracy: 0.9650 - lr: 1.0000e-04\n",
      "Epoch 13/60\n",
      "90/90 [==============================] - 25s 278ms/step - loss: 0.0489 - accuracy: 0.9833 - val_loss: 0.1416 - val_accuracy: 0.9650 - lr: 1.0000e-04\n",
      "Epoch 14/60\n",
      "90/90 [==============================] - ETA: 0s - loss: 0.0443 - accuracy: 0.9847\n",
      "Epoch 14: ReduceLROnPlateau reducing learning rate to 9.999999747378752e-06.\n",
      "90/90 [==============================] - 25s 280ms/step - loss: 0.0443 - accuracy: 0.9847 - val_loss: 0.0839 - val_accuracy: 0.9650 - lr: 1.0000e-04\n",
      "Epoch 15/60\n",
      "90/90 [==============================] - 25s 278ms/step - loss: 0.0126 - accuracy: 0.9972 - val_loss: 0.0893 - val_accuracy: 0.9750 - lr: 1.0000e-05\n",
      "Epoch 16/60\n",
      "90/90 [==============================] - 25s 281ms/step - loss: 0.0168 - accuracy: 0.9944 - val_loss: 0.0885 - val_accuracy: 0.9700 - lr: 1.0000e-05\n",
      "Epoch 17/60\n",
      "90/90 [==============================] - 25s 281ms/step - loss: 0.0130 - accuracy: 0.9972 - val_loss: 0.0774 - val_accuracy: 0.9700 - lr: 1.0000e-05\n",
      "Epoch 18/60\n",
      "90/90 [==============================] - 25s 281ms/step - loss: 0.0124 - accuracy: 0.9972 - val_loss: 0.0808 - val_accuracy: 0.9750 - lr: 1.0000e-05\n",
      "Epoch 19/60\n",
      "90/90 [==============================] - ETA: 0s - loss: 0.0094 - accuracy: 0.9986\n",
      "Epoch 19: ReduceLROnPlateau reducing learning rate to 9.999999747378752e-07.\n",
      "90/90 [==============================] - 25s 279ms/step - loss: 0.0094 - accuracy: 0.9986 - val_loss: 0.0757 - val_accuracy: 0.9700 - lr: 1.0000e-05\n",
      "Epoch 20/60\n",
      "90/90 [==============================] - 25s 281ms/step - loss: 0.0127 - accuracy: 0.9972 - val_loss: 0.0779 - val_accuracy: 0.9750 - lr: 1.0000e-06\n",
      "Epoch 21/60\n",
      "90/90 [==============================] - 25s 280ms/step - loss: 0.0064 - accuracy: 0.9986 - val_loss: 0.0797 - val_accuracy: 0.9750 - lr: 1.0000e-06\n",
      "Epoch 22/60\n",
      "90/90 [==============================] - 25s 283ms/step - loss: 0.0115 - accuracy: 0.9986 - val_loss: 0.0847 - val_accuracy: 0.9700 - lr: 1.0000e-06\n",
      "Epoch 23/60\n",
      "90/90 [==============================] - 25s 279ms/step - loss: 0.0096 - accuracy: 0.9986 - val_loss: 0.0759 - val_accuracy: 0.9700 - lr: 1.0000e-06\n",
      "Epoch 24/60\n",
      "90/90 [==============================] - ETA: 0s - loss: 0.0113 - accuracy: 0.9972\n",
      "Epoch 24: ReduceLROnPlateau reducing learning rate to 9.999999974752428e-08.\n",
      "90/90 [==============================] - 25s 280ms/step - loss: 0.0113 - accuracy: 0.9972 - val_loss: 0.0778 - val_accuracy: 0.9750 - lr: 1.0000e-06\n",
      "Epoch 25/60\n",
      "90/90 [==============================] - 25s 280ms/step - loss: 0.0090 - accuracy: 0.9986 - val_loss: 0.0772 - val_accuracy: 0.9750 - lr: 1.0000e-07\n",
      "Epoch 26/60\n",
      "90/90 [==============================] - 26s 286ms/step - loss: 0.0102 - accuracy: 0.9986 - val_loss: 0.0759 - val_accuracy: 0.9750 - lr: 1.0000e-07\n",
      "Epoch 27/60\n",
      "90/90 [==============================] - 26s 284ms/step - loss: 0.0099 - accuracy: 0.9986 - val_loss: 0.0746 - val_accuracy: 0.9750 - lr: 1.0000e-07\n",
      "Epoch 28/60\n",
      "90/90 [==============================] - 27s 301ms/step - loss: 0.0095 - accuracy: 0.9986 - val_loss: 0.0755 - val_accuracy: 0.9750 - lr: 1.0000e-07\n",
      "Epoch 29/60\n",
      "90/90 [==============================] - ETA: 0s - loss: 0.0106 - accuracy: 0.9972\n",
      "Epoch 29: ReduceLROnPlateau reducing learning rate to 1.0000000116860975e-08.\n",
      "90/90 [==============================] - 26s 288ms/step - loss: 0.0106 - accuracy: 0.9972 - val_loss: 0.0771 - val_accuracy: 0.9750 - lr: 1.0000e-07\n",
      "Epoch 29: early stopping\n"
     ]
    }
   ],
   "source": [
    "EPOCHS=60\n",
    "\n",
    "callbacks = [\n",
    "    keras.callbacks.ReduceLROnPlateau(monitor ='val_loss',factor = 0.1,min_delta=0.02,patience = 5,verbose=1,min_lr=0.0000000001),\n",
    "    tf.keras.callbacks.EarlyStopping(\n",
    "        monitor=\"val_loss\",\n",
    "        min_delta=0.02,\n",
    "        patience=20,\n",
    "        verbose=1,\n",
    "        mode=\"auto\",\n",
    "        baseline=None,\n",
    "        restore_best_weights=False,\n",
    "    )\n",
    "    \n",
    "]\n",
    "history = model.fit(\n",
    "    train,\n",
    "    validation_data=valid,\n",
    "    verbose=1,\n",
    "    epochs=EPOCHS,\n",
    "    callbacks=callbacks\n",
    ")\n"
   ]
  },
  {
   "cell_type": "code",
   "execution_count": null,
   "id": "ab4b658b",
   "metadata": {},
   "outputs": [],
   "source": [
    "import os\n",
    "os.environ['CUDA_VISIBLE_DEVICES'] = ''"
   ]
  },
  {
   "cell_type": "code",
   "execution_count": 7,
   "id": "311be80a",
   "metadata": {},
   "outputs": [],
   "source": [
    "loaded_model = tf.keras.models.load_model('lstm-95.h5')"
   ]
  },
  {
   "cell_type": "code",
   "execution_count": 12,
   "id": "079699da",
   "metadata": {
    "scrolled": false
   },
   "outputs": [
    {
     "name": "stderr",
     "output_type": "stream",
     "text": [
      "The PostScript backend does not support transparency; partially transparent artists will be rendered opaque.\n"
     ]
    },
    {
     "data": {
      "image/png": "[encoded data removed]",
      "text/plain": [
       "<Figure size 640x480 with 1 Axes>"
      ]
     },
     "metadata": {},
     "output_type": "display_data"
    },
    {
     "name": "stderr",
     "output_type": "stream",
     "text": [
      "The PostScript backend does not support transparency; partially transparent artists will be rendered opaque.\n"
     ]
    },
    {
     "data": {
      "image/png": "[encoded data removed]",
      "text/plain": [
       "<Figure size 640x480 with 1 Axes>"
      ]
     },
     "metadata": {},
     "output_type": "display_data"
    }
   ],
   "source": [
    "plt.plot(history.history['accuracy'])\n",
    "plt.plot(history.history['val_accuracy'])\n",
    "plt.title('model accuracy')\n",
    "plt.ylabel('accuracy')\n",
    "plt.xlabel('epoch')\n",
    "plt.legend(['train', 'validation'], loc='upper left')\n",
    "plt.savefig('destination_path.eps', format='eps', dpi=1000)\n",
    "plt.show()\n",
    "# summarize history for loss\n",
    "plt.plot(history.history['loss'])\n",
    "plt.plot(history.history['val_loss'])\n",
    "plt.title('model loss')\n",
    "plt.ylabel('loss')\n",
    "plt.xlabel('epoch')\n",
    "plt.legend(['train', 'validation'], loc='upper left')\n",
    "plt.savefig('destination_path1.eps', format='eps', dpi=1000)\n",
    "plt.show()"
   ]
  },
  {
   "cell_type": "code",
   "execution_count": 13,
   "id": "c252f29a",
   "metadata": {},
   "outputs": [
    {
     "name": "stdout",
     "output_type": "stream",
     "text": [
      "10/10 [==============================] - 2s 208ms/step - loss: 0.0510 - accuracy: 0.9875\n"
     ]
    }
   ],
   "source": [
    "# load_model.load_weights('checkpoint/')\n",
    "\n",
    "result = model.evaluate(test)"
   ]
  },
  {
   "cell_type": "code",
   "execution_count": 15,
   "id": "1f6599c1",
   "metadata": {},
   "outputs": [],
   "source": [
    "model.save('lstm-9750.h5')"
   ]
  },
  {
   "cell_type": "code",
   "execution_count": 16,
   "id": "a5b9ac9e",
   "metadata": {},
   "outputs": [],
   "source": [
    "from collections import deque"
   ]
  },
  {
   "cell_type": "code",
   "execution_count": 21,
   "id": "0bc37629",
   "metadata": {},
   "outputs": [],
   "source": [
    "def predict_on_video(video_file_path, output_file_path, SEQUENCE_LENGTH):\n",
    "    '''\n",
    "    This function will perform action recognition on a video using the LRCN model.\n",
    "    Args:\n",
    "    video_file_path:  The path of the video stored in the disk on which the action recognition is to be performed.\n",
    "    output_file_path: The path where the ouput video with the predicted action being performed overlayed will be stored.\n",
    "    SEQUENCE_LENGTH:  The fixed number of frames of a video that can be passed to the model as one sequence.\n",
    "    '''\n",
    "\n",
    "    # Initialize the VideoCapture object to read from the video file.\n",
    "    video_reader = cv2.VideoCapture(video_file_path)\n",
    "\n",
    "    # Get the width and height of the video.\n",
    "    original_video_width = int(video_reader.get(cv2.CAP_PROP_FRAME_WIDTH))\n",
    "    original_video_height = int(video_reader.get(cv2.CAP_PROP_FRAME_HEIGHT))\n",
    "\n",
    "    # Initialize the VideoWriter Object to store the output video in the disk.\n",
    "    video_writer = cv2.VideoWriter(output_file_path, cv2.VideoWriter_fourcc('M', 'P', '4', 'V'), \n",
    "                                   video_reader.get(cv2.CAP_PROP_FPS), (original_video_width, original_video_height))\n",
    "\n",
    "    # Declare a queue to store video frames.\n",
    "    frames_queue = deque(maxlen = SEQUENCE_LENGTH)\n",
    "\n",
    "    # Initialize a variable to store the predicted action being performed in the video.\n",
    "    predicted_class_name = ''\n",
    "\n",
    "    # Iterate until the video is accessed successfully.\n",
    "    while video_reader.isOpened():\n",
    "\n",
    "        # Read the frame.\n",
    "        ok, frame = video_reader.read() \n",
    "        \n",
    "        # Check if frame is not read properly then break the loop.\n",
    "        if not ok:\n",
    "            break\n",
    "\n",
    "        # Resize the Frame to fixed Dimensions.\n",
    "        resized_frame = cv2.resize(frame, (IMAGE_HEIGHT, IMAGE_WIDTH))\n",
    "        \n",
    "        # Normalize the resized frame by dividing it with 255 so that each pixel value then lies between 0 and 1.\n",
    "        normalized_frame = resized_frame / 255\n",
    "\n",
    "        # Appending the pre-processed frame into the frames list.\n",
    "        frames_queue.append(normalized_frame)\n",
    "\n",
    "        # Check if the number of frames in the queue are equal to the fixed sequence length.\n",
    "        if len(frames_queue) == SEQUENCE_LENGTH:\n",
    "\n",
    "            # Pass the normalized frames to the model and get the predicted probabilities.\n",
    "            predicted_labels_probabilities = loaded_model.predict(np.expand_dims(frames_queue, axis = 0))[0]\n",
    "\n",
    "            # Get the index of class with highest probability.\n",
    "            predicted_label = np.argmax(predicted_labels_probabilities)\n",
    "\n",
    "            # Get the class name using the retrieved index.\n",
    "            predicted_class_name = classes[predicted_label]\n",
    "\n",
    "        # Write predicted class name on top of the frame.\n",
    "        cv2.putText(frame, predicted_class_name, (10, 30), cv2.FONT_HERSHEY_SIMPLEX, 1, (0, 255, 0), 2)\n",
    "\n",
    "        # Write The frame into the disk using the VideoWriter Object.\n",
    "        video_writer.write(frame)\n",
    "        \n",
    "    # Release the VideoCapture and VideoWriter objects.\n",
    "    video_reader.release()\n",
    "    video_writer.release()"
   ]
  },
  {
   "cell_type": "code",
   "execution_count": 39,
   "id": "69aee0f6",
   "metadata": {},
   "outputs": [],
   "source": [
    "\n",
    "\n",
    "# Construct tihe nput youtube video path\n",
    "input_video_file_path = 'D:\\\\Thesis Works\\\\Datasets\\\\compiled_short\\\\NonViolence\\\\nv15.mov'\n",
    "\n",
    "output_video_file_path = 'D:\\\\Thesis Works\\\\Datasets\\\\compiled_short\\\\test6.mp4'\n",
    "\n",
    "# Perform Action Recognition on the Test Video.\n",
    "predict_on_video(input_video_file_path, output_video_file_path, 25)\n",
    "\n",
    "# # Display the output video.\n",
    "# VideoFileClip(output_video_file_path, audio=False, target_resolution=(300,None)).ipython_display()"
   ]
  },
  {
   "cell_type": "code",
   "execution_count": null,
   "id": "aa68cf23",
   "metadata": {},
   "outputs": [],
   "source": []
  }
 ],
 "metadata": {
  "kernelspec": {
   "display_name": "Python 3 (ipykernel)",
   "language": "python",
   "name": "python3"
  },
  "language_info": {
   "codemirror_mode": {
    "name": "ipython",
    "version": 3
   },
   "file_extension": ".py",
   "mimetype": "text/x-python",
   "name": "python",
   "nbconvert_exporter": "python",
   "pygments_lexer": "ipython3",
   "version": "3.9.15"
  }
 },
 "nbformat": 4,
 "nbformat_minor": 5
}
